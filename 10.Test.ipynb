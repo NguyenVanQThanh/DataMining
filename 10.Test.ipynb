{
 "cells": [
  {
   "cell_type": "code",
   "id": "initial_id",
   "metadata": {
    "collapsed": true,
    "ExecuteTime": {
     "end_time": "2024-06-20T00:56:37.142007Z",
     "start_time": "2024-06-20T00:56:02.973201Z"
    }
   },
   "source": [
    "import pathlib\n",
    "\n",
    "import pandas as pd\n",
    "import numpy as np\n",
    "from scipy.io import arff\n",
    "from gosdt.model.threshold_guess import compute_thresholds, cut\n",
    "from sklearn.ensemble import GradientBoostingClassifier\n",
    "from sklearn.model_selection import train_test_split\n",
    "from sklearn.tree import DecisionTreeClassifier\n",
    "from sklearn.metrics import accuracy_score\n",
    "from imodels.tree.gosdt.pygosdt import OptimalTreeClassifier\n",
    "import random\n",
    "import torch\n",
    "import sklearn\n",
    "from gosdt import GOSDT\n",
    "from metatree.model_metatree import LlamaForMetaTree as MetaTree\n",
    "from metatree.decision_tree_class import DecisionTree, DecisionTreeForest\n",
    "from metatree.run_train import preprocess_dimension_patch\n",
    "\n",
    "from transformers import AutoConfig\n",
    "\n",
    "model_name_or_path = \"yzhuang/MetaTree\"\n",
    "\n",
    "config = AutoConfig.from_pretrained(model_name_or_path)\n",
    "model = MetaTree.from_pretrained(\n",
    "    model_name_or_path,\n",
    "    config=config,\n",
    ")   \n",
    "decision_tree_forest = DecisionTreeForest()\n",
    "\n",
    "ensemble_size = 1\n",
    "seed = 42\n",
    "# Load the new dataset\n",
    "arff_file = arff.loadarff('./dataset/10.SEA_50.arff')\n",
    "df = pd.DataFrame(arff_file[0])\n",
    "print(df)\n",
    "mapping = {\n",
    "    b'0': 0,\n",
    "    b'1': 1,\n",
    "    b'2': 2,\n",
    "    b'3': 3,\n",
    "    b'4': 4,\n",
    "    b'5': 5,\n",
    "    b'6': 6,\n",
    "    b'7': 7,\n",
    "    b'8': 8,\n",
    "    b'9': 9,\n",
    "    b'10': 10\n",
    "}\n",
    "df['Result'] = df['class'].apply(lambda x: mapping.get(x, 0))\n",
    "# print(df['class'].unique())\n",
    "\n",
    "# Drop the original binaryClass column\n",
    "df.drop(columns=['class'], inplace=True)\n",
    "print(df)\n",
    "X, y = df.iloc[:,:-1], df.iloc[:,-1]\n",
    "df.info()\n",
    "df = df.astype(int)\n",
    "df.info()\n",
    "feature_names = df.columns[:-1]\n",
    "\n",
    "print(\"Dataset Shapes X={}, y={}, Num of Classes={}\".format(X.shape, y.shape, len(set(y))))\n",
    "\n",
    "train_idx, test_idx = sklearn.model_selection.train_test_split(range(X.shape[0]), test_size=0.3, random_state=seed)\n",
    "print(len(train_idx))\n",
    "\n",
    "# Dimension \n",
    "random.seed(seed)\n",
    "feature_idx = np.random.choice(X.shape[1], 3, replace=False)\n",
    "X = X.iloc[:, feature_idx]  # Updated line\n",
    "\n",
    "test_X, test_y = X.iloc[test_idx], y.iloc[test_idx]  # Updated line\n",
    "\n",
    "for i in range(ensemble_size):\n",
    "    # Sample Train and Test Data\n",
    "    random.seed(seed+i+1)\n",
    "    subset_idx = random.sample(train_idx, 256)\n",
    "    train_X, train_y = X.iloc[subset_idx], y.iloc[subset_idx]  # Updated line\n",
    "\n",
    "    input_x = torch.tensor(train_X.values, dtype=torch.float32)  # Convert DataFrame to NumPy array before tensor\n",
    "    input_y = torch.nn.functional.one_hot(torch.tensor(train_y.values, dtype= torch.long)).float()  # Convert Series to NumPy array before tensor\n",
    "\n",
    "    batch = {\"input_x\": input_x, \"input_y\": input_y, \"input_y_clean\": input_y}\n",
    "    batch = preprocess_dimension_patch(batch, n_feature=10, n_class=10)\n",
    "    model.depth = 2\n",
    "    outputs = model.generate_decision_tree(batch['input_x'], batch['input_y'], depth=model.depth)\n",
    "    decision_tree_forest.add_tree(DecisionTree(auto_dims=outputs.metatree_dimensions, auto_thresholds=outputs.tentative_splits, input_x=batch['input_x'], input_y=batch['input_y'], depth=model.depth))\n",
    "\n",
    "    print(\"Decision Tree Features: \", [x.argmax(dim=-1) for x in outputs.metatree_dimensions])\n",
    "    print(\"Decision Tree Threasholds: \", outputs.tentative_splits)\n"
   ],
   "outputs": [
    {
     "name": "stdout",
     "output_type": "stream",
     "text": [
      "         attrib1   attrib2   attrib3      class\n",
      "0       7.308782  4.100808  2.077148  b'groupB'\n",
      "1       6.588672  7.107396  1.527362  b'groupB'\n",
      "2       9.398654  9.471949  9.370821  b'groupB'\n",
      "3       9.139629  1.593396  3.690026  b'groupB'\n",
      "4       1.159671  7.705359  6.598927  b'groupB'\n",
      "...          ...       ...       ...        ...\n",
      "999995  6.684315  4.155781  1.671773  b'groupB'\n",
      "999996  2.462097  3.630458  0.835086  b'groupB'\n",
      "999997  5.592019  2.968853  7.952967  b'groupA'\n",
      "999998  2.019972  3.108520  5.412660  b'groupA'\n",
      "999999  9.722446  9.425036  0.623855  b'groupB'\n",
      "\n",
      "[1000000 rows x 4 columns]\n",
      "         attrib1   attrib2   attrib3  Result\n",
      "0       7.308782  4.100808  2.077148       0\n",
      "1       6.588672  7.107396  1.527362       0\n",
      "2       9.398654  9.471949  9.370821       0\n",
      "3       9.139629  1.593396  3.690026       0\n",
      "4       1.159671  7.705359  6.598927       0\n",
      "...          ...       ...       ...     ...\n",
      "999995  6.684315  4.155781  1.671773       0\n",
      "999996  2.462097  3.630458  0.835086       0\n",
      "999997  5.592019  2.968853  7.952967       0\n",
      "999998  2.019972  3.108520  5.412660       0\n",
      "999999  9.722446  9.425036  0.623855       0\n",
      "\n",
      "[1000000 rows x 4 columns]\n",
      "<class 'pandas.core.frame.DataFrame'>\n",
      "RangeIndex: 1000000 entries, 0 to 999999\n",
      "Data columns (total 4 columns):\n",
      " #   Column   Non-Null Count    Dtype  \n",
      "---  ------   --------------    -----  \n",
      " 0   attrib1  1000000 non-null  float64\n",
      " 1   attrib2  1000000 non-null  float64\n",
      " 2   attrib3  1000000 non-null  float64\n",
      " 3   Result   1000000 non-null  int64  \n",
      "dtypes: float64(3), int64(1)\n",
      "memory usage: 30.5 MB\n",
      "<class 'pandas.core.frame.DataFrame'>\n",
      "RangeIndex: 1000000 entries, 0 to 999999\n",
      "Data columns (total 4 columns):\n",
      " #   Column   Non-Null Count    Dtype\n",
      "---  ------   --------------    -----\n",
      " 0   attrib1  1000000 non-null  int64\n",
      " 1   attrib2  1000000 non-null  int64\n",
      " 2   attrib3  1000000 non-null  int64\n",
      " 3   Result   1000000 non-null  int64\n",
      "dtypes: int64(4)\n",
      "memory usage: 30.5 MB\n",
      "Dataset Shapes X=(1000000, 3), y=(1000000,), Num of Classes=1\n",
      "700000\n",
      "Decision Tree Features:  [tensor([2]), tensor([0]), tensor([0])]\n",
      "Decision Tree Threasholds:  [tensor([[2.6401]]), tensor([[9.5832]]), tensor([[2.3815]])]\n"
     ]
    }
   ],
   "execution_count": 2
  },
  {
   "metadata": {
    "ExecuteTime": {
     "end_time": "2024-06-20T00:56:37.197155Z",
     "start_time": "2024-06-20T00:56:37.144893Z"
    }
   },
   "cell_type": "code",
   "source": [
    "tree_pred = decision_tree_forest.predict(torch.tensor(test_X.values, dtype=torch.float32))\n",
    "\n",
    "accuracy = accuracy_score(test_y.values, tree_pred.argmax(dim=-1).squeeze(0))\n",
    "print(\"MetaTree Test Accuracy: \", accuracy)\n"
   ],
   "id": "64e4f76726908522",
   "outputs": [
    {
     "name": "stdout",
     "output_type": "stream",
     "text": [
      "MetaTree Test Accuracy:  1.0\n"
     ]
    }
   ],
   "execution_count": 3
  },
  {
   "metadata": {
    "ExecuteTime": {
     "end_time": "2024-06-20T00:56:37.270280Z",
     "start_time": "2024-06-20T00:56:37.200504Z"
    }
   },
   "cell_type": "code",
   "source": [
    "cart_ensemble = []\n",
    "\n",
    "for i in range(ensemble_size):\n",
    "    random.seed(seed + i + 1)\n",
    "    subset_idx = random.sample(train_idx, 256)\n",
    "    train_X, train_y = X.iloc[subset_idx], y.iloc[subset_idx]  # Use .iloc for row indexing\n",
    "    \n",
    "    clf = sklearn.tree.DecisionTreeClassifier(max_depth=2, random_state=seed + i + 1)\n",
    "    clf.fit(train_X.values, train_y.values)\n",
    "    cart_ensemble.append(clf)\n",
    "\n",
    "overall_pred = np.zeros((test_X.values.shape[0], len(set(test_y))))\n",
    "for clf in cart_ensemble:\n",
    "    overall_pred += clf.predict_proba(test_X.values)\n",
    "overall_pred = overall_pred / len(cart_ensemble)\n",
    "\n",
    "accuracy = accuracy_score(test_y.values, overall_pred.argmax(axis=-1))\n",
    "print(\"CART Test Accuracy: \", accuracy)\n"
   ],
   "id": "6b309dde3cc361a1",
   "outputs": [
    {
     "name": "stdout",
     "output_type": "stream",
     "text": [
      "CART Test Accuracy:  1.0\n"
     ]
    }
   ],
   "execution_count": 4
  },
  {
   "metadata": {
    "ExecuteTime": {
     "end_time": "2024-06-20T00:56:37.280727Z",
     "start_time": "2024-06-20T00:56:37.274567Z"
    }
   },
   "cell_type": "code",
   "source": [
    "# # Tiếp tục từ đoạn code của bạn\n",
    "# # Định nghĩa các tham số cho mô hình GOSDT\n",
    "# gosdt_params = {\n",
    "#     'regularization': 0.01,\n",
    "#     'time_limit': 60,  # giới hạn thời gian tính toán là 60 giây\n",
    "#     'verbose': True\n",
    "# }\n",
    "# \n",
    "# # Khởi tạo mô hình GOSDT với các tham số đã định nghĩa\n",
    "# gosdt_model = GOSDT(gosdt_params)\n",
    "# \n",
    "# # Huấn luyện mô hình GOSDT với tập dữ liệu huấn luyện\n",
    "# gosdt_model.fit(train_X, train_y)\n",
    "# \n",
    "# # Dự đoán kết quả trên tập dữ liệu kiểm tra\n",
    "# predictions = gosdt_model.predict(test_X)\n",
    "# \n",
    "# # Tính toán độ chính xác của mô hình\n",
    "# accuracy = accuracy_score(test_y, predictions)\n",
    "# print(f'Độ chính xác của mô hình GOSDT: {accuracy}')\n"
   ],
   "id": "a1bdb794674d1d93",
   "outputs": [],
   "execution_count": 5
  },
  {
   "metadata": {
    "ExecuteTime": {
     "end_time": "2024-06-20T00:56:37.287759Z",
     "start_time": "2024-06-20T00:56:37.283315Z"
    }
   },
   "cell_type": "code",
   "source": [
    "# gosdt_ensemble = []\n",
    "# \n",
    "# for i in range(ensemble_size):\n",
    "#     random.seed(seed + i + 1)\n",
    "#     subset_idx = random.sample(train_idx, 256)\n",
    "#     train_X, train_y = X.iloc[subset_idx], y.iloc[subset_idx]  # Use .iloc for row indexing\n",
    "#     glf = OptimalTreeClassifier(random_state=seed + i + 1)\n",
    "#     print(glf.max_depth())\n",
    "#     gosdt_ensemble.append(predictions)\n",
    "# overall_pred_gosdt = np.zeros((test_X.values.shape[0], len(set(test_y))))\n",
    "# for glf in gosdt_ensemble:\n",
    "#     overall_pred_gosdt += glf.predict_proba(test_X.values)\n",
    "# overall_pred_gosdt = overall_pred_gosdt / len(gosdt_ensemble)\n",
    "# \n",
    "# accuracy = accuracy_score(test_y.values, overall_pred_gosdt.argmax(axis=-1))\n",
    "# print(\"GOSDT Test Accuracy: \", accuracy)\n",
    "#     "
   ],
   "id": "d056f1621dfb56bb",
   "outputs": [],
   "execution_count": 6
  },
  {
   "metadata": {
    "ExecuteTime": {
     "end_time": "2024-06-20T00:56:37.294772Z",
     "start_time": "2024-06-20T00:56:37.290799Z"
    }
   },
   "cell_type": "code",
   "source": "",
   "id": "213b7c82685c8e8f",
   "outputs": [],
   "execution_count": 6
  }
 ],
 "metadata": {
  "kernelspec": {
   "display_name": "Python 3",
   "language": "python",
   "name": "python3"
  },
  "language_info": {
   "codemirror_mode": {
    "name": "ipython",
    "version": 2
   },
   "file_extension": ".py",
   "mimetype": "text/x-python",
   "name": "python",
   "nbconvert_exporter": "python",
   "pygments_lexer": "ipython2",
   "version": "2.7.6"
  }
 },
 "nbformat": 4,
 "nbformat_minor": 5
}
