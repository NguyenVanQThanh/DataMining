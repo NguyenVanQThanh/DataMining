{
 "cells": [
  {
   "metadata": {
    "ExecuteTime": {
     "end_time": "2024-05-30T06:28:05.580972Z",
     "start_time": "2024-05-30T06:24:51.328239Z"
    }
   },
   "cell_type": "code",
   "source": [
    "import random\n",
    "import numpy as np\n",
    "import torch\n",
    "import pandas as pd\n",
    "from sklearn.feature_extraction.text import TfidfVectorizer\n",
    "from sklearn.model_selection import train_test_split\n",
    "from datasets import load_dataset\n",
    "import torch.nn.functional as F\n",
    "from sklearn.metrics import accuracy_score\n",
    "import sklearn\n",
    "from metatree.model_metatree import LlamaForMetaTree as MetaTree\n",
    "from metatree.decision_tree_class import DecisionTree, DecisionTreeForest\n",
    "from metatree.run_train import preprocess_dimension_patch\n",
    "from transformers import AutoConfig\n",
    "from sklearn.tree import DecisionTreeClassifier\n",
    "\n",
    "# Load MetaTree model\n",
    "model_name_or_path = \"yzhuang/MetaTree\"\n",
    "\n",
    "config = AutoConfig.from_pretrained(model_name_or_path)\n",
    "model = MetaTree.from_pretrained(\n",
    "    model_name_or_path,\n",
    "    config=config,\n",
    ")\n",
    "decision_tree_forest = DecisionTreeForest()\n",
    "\n",
    "ensemble_size = 5\n",
    "seed = 42\n",
    "rng = np.random.default_rng(seed)\n",
    "\n",
    "# Load datasets\n",
    "dset_train = load_dataset('rotten_tomatoes', split='train')\n",
    "dset_train = dset_train.select(rng.choice(len(dset_train), size=100, replace=False))\n",
    "dset_test = load_dataset('rotten_tomatoes', split='test')\n",
    "dset_test = dset_test.select(rng.choice(len(dset_test), size=100, replace=False))\n",
    "\n",
    "# Convert text to TF-IDF features\n",
    "tfidf_vectorizer = TfidfVectorizer(max_features=1000)\n",
    "X_tfidf = tfidf_vectorizer.fit_transform(dset_train['text'] + dset_test['text']).toarray()\n",
    "y = np.concatenate([dset_train['label'], dset_test['label']])\n",
    "\n",
    "# Split into training and testing sets (70% train, 30% test)\n",
    "train_X_tfidf, test_X_tfidf, train_y, test_y = train_test_split(X_tfidf, y, test_size=0.3, random_state=seed)\n",
    "\n",
    "for i in range(ensemble_size):\n",
    "    # Sample Train Data\n",
    "    random.seed(seed + i + 1)\n",
    "    sample_size = min(256, len(train_X_tfidf))\n",
    "    subset_idx = random.sample(range(len(train_X_tfidf)), sample_size)\n",
    "    train_X_subset, train_y_subset = train_X_tfidf[subset_idx], train_y[subset_idx]\n",
    "\n",
    "    input_x = torch.tensor(train_X_subset, dtype=torch.float32)  # Convert numpy array to tensor\n",
    "    input_y = F.one_hot(torch.tensor(train_y_subset, dtype=torch.long), num_classes=3).float()  # Convert numpy array to tensor and one-hot encode\n",
    "\n",
    "    batch = {\"input_x\": input_x, \"input_y\": input_y, \"input_y_clean\": input_y}\n",
    "    batch = preprocess_dimension_patch(batch, n_feature=10, n_class=3)\n",
    "    model.depth = 3\n",
    "    outputs = model.generate_decision_tree(batch['input_x'], batch['input_y'], depth=model.depth)\n",
    "    decision_tree_forest.add_tree(DecisionTree(auto_dims=outputs.metatree_dimensions, auto_thresholds=outputs.tentative_splits, input_x=batch['input_x'], input_y=batch['input_y'], depth=model.depth))\n",
    "\n",
    "    print(\"Decision Tree Features: \", [x.argmax(dim=-1) for x in outputs.metatree_dimensions])\n",
    "    print(\"Decision Tree Thresholds: \", outputs.tentative_splits)\n",
    "\n",
    "# Evaluate the MetaTree model\n",
    "test_X_tensor = torch.tensor(test_X_tfidf, dtype=torch.float32)\n",
    "tree_pred = decision_tree_forest.predict(test_X_tensor)\n",
    "\n",
    "# Calculate accuracy\n",
    "metatree_accuracy = accuracy_score(test_y, tree_pred.argmax(dim=-1).squeeze(0))\n",
    "print(\"MetaTree Test Accuracy: \", metatree_accuracy)\n",
    "\n",
    "# CART model for comparison\n",
    "cart_ensemble = []\n",
    "for i in range(ensemble_size):\n",
    "    random.seed(seed + i + 1)\n",
    "    subset_idx = random.sample(range(len(train_X_tfidf)), sample_size)\n",
    "    train_X_subset, train_y_subset = train_X_tfidf[subset_idx], train_y[subset_idx]\n",
    "\n",
    "    clf = DecisionTreeClassifier(max_depth=3, random_state=seed + i + 1)\n",
    "    clf.fit(train_X_subset, train_y_subset)\n",
    "    cart_ensemble.append(clf)\n",
    "\n",
    "overall_pred = np.zeros((test_X_tfidf.shape[0], len(set(test_y))))\n",
    "for clf in cart_ensemble:\n",
    "    overall_pred += clf.predict_proba(test_X_tfidf)\n",
    "overall_pred = overall_pred / len(cart_ensemble)\n",
    "\n",
    "accuracy = accuracy_score(test_y, overall_pred.argmax(axis=-1))\n",
    "print(\"CART Test Accuracy: \", accuracy)\n"
   ],
   "id": "74726ec3639e7101",
   "outputs": [
    {
     "name": "stdout",
     "output_type": "stream",
     "text": [
      "Decision Tree Features:  [tensor([8]), tensor([7]), tensor([8]), tensor([0]), tensor([7]), tensor([0]), tensor([8])]\n",
      "Decision Tree Thresholds:  [tensor([[0.3316]]), tensor([[0.4207]]), tensor([[0.3316]]), tensor([[0.3480]]), tensor([[0.4207]]), tensor([[0.1740]]), tensor([[0.3316]])]\n",
      "Decision Tree Features:  [tensor([8]), tensor([7]), tensor([8]), tensor([0]), tensor([7]), tensor([0]), tensor([8])]\n",
      "Decision Tree Thresholds:  [tensor([[0.3316]]), tensor([[0.4207]]), tensor([[0.3316]]), tensor([[0.3480]]), tensor([[0.4207]]), tensor([[0.1740]]), tensor([[0.3316]])]\n",
      "Decision Tree Features:  [tensor([8]), tensor([7]), tensor([8]), tensor([0]), tensor([7]), tensor([0]), tensor([8])]\n",
      "Decision Tree Thresholds:  [tensor([[0.3316]]), tensor([[0.4207]]), tensor([[0.3316]]), tensor([[0.3480]]), tensor([[0.4207]]), tensor([[0.1740]]), tensor([[0.3316]])]\n",
      "Decision Tree Features:  [tensor([8]), tensor([7]), tensor([8]), tensor([0]), tensor([7]), tensor([0]), tensor([8])]\n",
      "Decision Tree Thresholds:  [tensor([[0.3316]]), tensor([[0.4207]]), tensor([[0.3316]]), tensor([[0.3480]]), tensor([[0.4207]]), tensor([[0.1740]]), tensor([[0.3316]])]\n",
      "Decision Tree Features:  [tensor([8]), tensor([7]), tensor([8]), tensor([0]), tensor([7]), tensor([0]), tensor([8])]\n",
      "Decision Tree Thresholds:  [tensor([[0.3316]]), tensor([[0.4207]]), tensor([[0.3316]]), tensor([[0.3480]]), tensor([[0.4207]]), tensor([[0.1740]]), tensor([[0.3316]])]\n",
      "MetaTree Test Accuracy:  0.4666666666666667\n",
      "CART Test Accuracy:  0.5166666666666667\n"
     ]
    }
   ],
   "execution_count": 7
  },
  {
   "metadata": {
    "ExecuteTime": {
     "end_time": "2024-05-30T06:28:05.617232Z",
     "start_time": "2024-05-30T06:28:05.587248Z"
    }
   },
   "cell_type": "code",
   "source": [
    "# Predict on test data\n",
    "test_X_tensor = torch.tensor(test_X_tfidf, dtype=torch.float32)  # Convert test features to tensor\n",
    "tree_pred = decision_tree_forest.predict(test_X_tensor)\n",
    "\n",
    "# Compute accuracy\n",
    "accuracy = accuracy_score(test_y, tree_pred.argmax(dim=-1).squeeze(0).numpy())\n",
    "print(\"MetaTree Test Accuracy: \", accuracy)"
   ],
   "id": "ecd02b0866dbe9d1",
   "outputs": [
    {
     "name": "stdout",
     "output_type": "stream",
     "text": [
      "MetaTree Test Accuracy:  0.4666666666666667\n"
     ]
    }
   ],
   "execution_count": 8
  }
 ],
 "metadata": {
  "kernelspec": {
   "display_name": "Python 3",
   "language": "python",
   "name": "python3"
  },
  "language_info": {
   "codemirror_mode": {
    "name": "ipython",
    "version": 2
   },
   "file_extension": ".py",
   "mimetype": "text/x-python",
   "name": "python",
   "nbconvert_exporter": "python",
   "pygments_lexer": "ipython2",
   "version": "2.7.6"
  }
 },
 "nbformat": 4,
 "nbformat_minor": 5
}
