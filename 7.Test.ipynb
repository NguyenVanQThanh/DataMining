{
 "cells": [
  {
   "cell_type": "code",
   "id": "initial_id",
   "metadata": {
    "collapsed": true,
    "ExecuteTime": {
     "end_time": "2024-06-20T05:57:36.901742Z",
     "start_time": "2024-06-20T05:56:58.681826Z"
    }
   },
   "source": [
    "import pathlib\n",
    "\n",
    "import pandas as pd\n",
    "import numpy as np\n",
    "from scipy.io import arff\n",
    "from gosdt.model.threshold_guess import compute_thresholds, cut\n",
    "from sklearn.ensemble import GradientBoostingClassifier\n",
    "from sklearn.model_selection import train_test_split\n",
    "from sklearn.tree import DecisionTreeClassifier\n",
    "from sklearn.metrics import accuracy_score\n",
    "from imodels.tree.gosdt.pygosdt import OptimalTreeClassifier\n",
    "import random\n",
    "import torch\n",
    "import sklearn\n",
    "from gosdt import GOSDT\n",
    "from metatree.model_metatree import LlamaForMetaTree as MetaTree\n",
    "from metatree.decision_tree_class import DecisionTree, DecisionTreeForest\n",
    "from metatree.run_train import preprocess_dimension_patch\n",
    "\n",
    "from transformers import AutoConfig\n",
    "\n",
    "model_name_or_path = \"yzhuang/MetaTree\"\n",
    "\n",
    "config = AutoConfig.from_pretrained(model_name_or_path)\n",
    "model = MetaTree.from_pretrained(\n",
    "    model_name_or_path,\n",
    "    config=config,\n",
    ")   \n",
    "decision_tree_forest = DecisionTreeForest()\n",
    "\n",
    "ensemble_size = 1\n",
    "seed = 42\n",
    "# Load the new dataset\n",
    "arff_file = arff.loadarff('./dataset/7.BNG_page-blocks.arff')\n",
    "df = pd.DataFrame(arff_file[0])\n",
    "print(df)\n",
    "mapping = {\n",
    "    b'0': 0,\n",
    "    b'1': 1,\n",
    "    b'2': 2,\n",
    "    b'3': 3,\n",
    "    b'4': 4,\n",
    "    b'5': 5,\n",
    "    b'6': 6,\n",
    "    b'7': 7,\n",
    "    b'8': 8,\n",
    "    b'9': 9,\n",
    "    b'10': 10\n",
    "}\n",
    "df['Result'] = df['class'].apply(lambda x: mapping.get(x, 0))\n",
    "# print(df['class'].unique())\n",
    "\n",
    "# Drop the original binaryClass column\n",
    "df.drop(columns=['class'], inplace=True)\n",
    "print(df)\n",
    "X, y = df.iloc[:,:-1], df.iloc[:,-1]\n",
    "df.info()\n",
    "df = df.astype(int)\n",
    "df.info()\n",
    "feature_names = df.columns[:-1]\n",
    "\n",
    "print(\"Dataset Shapes X={}, y={}, Num of Classes={}\".format(X.shape, y.shape, len(set(y))))\n",
    "\n",
    "train_idx, test_idx = sklearn.model_selection.train_test_split(range(X.shape[0]), test_size=0.3, random_state=seed)\n",
    "print(len(train_idx))\n",
    "\n",
    "# Dimension \n",
    "random.seed(seed)\n",
    "feature_idx = np.random.choice(X.shape[1], 10, replace=False)\n",
    "X = X.iloc[:, feature_idx]  # Updated line\n",
    "\n",
    "test_X, test_y = X.iloc[test_idx], y.iloc[test_idx]  # Updated line\n",
    "\n",
    "for i in range(ensemble_size):\n",
    "    # Sample Train and Test Data\n",
    "    random.seed(seed+i+1)\n",
    "    subset_idx = random.sample(train_idx, 256)\n",
    "    train_X, train_y = X.iloc[subset_idx], y.iloc[subset_idx]  # Updated line\n",
    "\n",
    "    input_x = torch.tensor(train_X.values, dtype=torch.float32)  # Convert DataFrame to NumPy array before tensor\n",
    "    input_y = torch.nn.functional.one_hot(torch.tensor(train_y.values, dtype= torch.long)).float()  # Convert Series to NumPy array before tensor\n",
    "\n",
    "    batch = {\"input_x\": input_x, \"input_y\": input_y, \"input_y_clean\": input_y}\n",
    "    batch = preprocess_dimension_patch(batch, n_feature=10, n_class=10)\n",
    "    model.depth = 2\n",
    "    outputs = model.generate_decision_tree(batch['input_x'], batch['input_y'], depth=model.depth)\n",
    "    decision_tree_forest.add_tree(DecisionTree(auto_dims=outputs.metatree_dimensions, auto_thresholds=outputs.tentative_splits, input_x=batch['input_x'], input_y=batch['input_y'], depth=model.depth))\n",
    "\n",
    "    print(\"Decision Tree Features: \", [x.argmax(dim=-1) for x in outputs.metatree_dimensions])\n",
    "    print(\"Decision Tree Threasholds: \", outputs.tentative_splits)\n"
   ],
   "outputs": [
    {
     "name": "stderr",
     "output_type": "stream",
     "text": [
      "/home/thanhnguyen/PycharmProjects/scientificProject/venv/lib/python3.10/site-packages/transformers/utils/generic.py:311: UserWarning: torch.utils._pytree._register_pytree_node is deprecated. Please use torch.utils._pytree.register_pytree_node instead.\n",
      "  torch.utils._pytree._register_pytree_node(\n",
      "/home/thanhnguyen/PycharmProjects/scientificProject/venv/lib/python3.10/site-packages/transformers/utils/generic.py:311: UserWarning: torch.utils._pytree._register_pytree_node is deprecated. Please use torch.utils._pytree.register_pytree_node instead.\n",
      "  torch.utils._pytree._register_pytree_node(\n",
      "/home/thanhnguyen/PycharmProjects/scientificProject/venv/lib/python3.10/site-packages/transformers/deepspeed.py:23: FutureWarning: transformers.deepspeed module is deprecated and will be removed in a future version. Please import deepspeed modules directly from transformers.integrations\n",
      "  warnings.warn(\n"
     ]
    },
    {
     "name": "stdout",
     "output_type": "stream",
     "text": [
      "           height      lenght         area      eccen   p_black     p_and  \\\n",
      "0        8.000000  211.148232   106.381089   1.727962  0.395142  0.993193   \n",
      "1        8.000000   17.412891   132.639793   2.424492  0.377858  0.788998   \n",
      "2        8.000000    6.285879    50.568153   1.126012  1.122664  0.613166   \n",
      "3        7.000000  202.516038  7808.305624  30.761118  0.205486  0.771541   \n",
      "4        8.000000    9.670099   179.611356   0.518727  0.328505  0.837230   \n",
      "...           ...         ...          ...        ...       ...       ...   \n",
      "295240  -5.395933    9.185859    90.910135  16.718824  0.412845  0.797874   \n",
      "295241   2.556959   51.080634     3.690972   4.418150  0.172469  0.581791   \n",
      "295242   6.903253   66.462510  1082.928087  12.442425  0.176942  0.707563   \n",
      "295243   7.000000  313.072026  8297.778243   1.434122  0.319614  0.701162   \n",
      "295244  49.722276  363.857671  4197.648414   3.653457  0.176876  0.429703   \n",
      "\n",
      "           mean_tr     blackpix     blackand    wb_trans class  \n",
      "0         1.665014    40.104926   114.724057   49.464251  b'1'  \n",
      "1         2.048208    55.582269   129.064027   17.481671  b'1'  \n",
      "2         2.021623    14.485915    50.897917   11.548148  b'5'  \n",
      "3         1.532381  1603.257716  4678.014396  556.119062  b'1'  \n",
      "4         2.273794    45.703761   128.972058   25.081731  b'1'  \n",
      "...            ...          ...          ...         ...   ...  \n",
      "295240    1.450570    16.060891    34.151684  251.051557  b'3'  \n",
      "295241    1.344541    22.500871     9.587961   -4.104739  b'1'  \n",
      "295242    1.286849   138.906317   719.555877   77.149160  b'1'  \n",
      "295243 -137.517388 -1855.088111   164.424864   21.952262  b'1'  \n",
      "295244  -64.919975   176.572030   513.125851  401.862924  b'5'  \n",
      "\n",
      "[295245 rows x 11 columns]\n",
      "           height      lenght         area      eccen   p_black     p_and  \\\n",
      "0        8.000000  211.148232   106.381089   1.727962  0.395142  0.993193   \n",
      "1        8.000000   17.412891   132.639793   2.424492  0.377858  0.788998   \n",
      "2        8.000000    6.285879    50.568153   1.126012  1.122664  0.613166   \n",
      "3        7.000000  202.516038  7808.305624  30.761118  0.205486  0.771541   \n",
      "4        8.000000    9.670099   179.611356   0.518727  0.328505  0.837230   \n",
      "...           ...         ...          ...        ...       ...       ...   \n",
      "295240  -5.395933    9.185859    90.910135  16.718824  0.412845  0.797874   \n",
      "295241   2.556959   51.080634     3.690972   4.418150  0.172469  0.581791   \n",
      "295242   6.903253   66.462510  1082.928087  12.442425  0.176942  0.707563   \n",
      "295243   7.000000  313.072026  8297.778243   1.434122  0.319614  0.701162   \n",
      "295244  49.722276  363.857671  4197.648414   3.653457  0.176876  0.429703   \n",
      "\n",
      "           mean_tr     blackpix     blackand    wb_trans  Result  \n",
      "0         1.665014    40.104926   114.724057   49.464251       1  \n",
      "1         2.048208    55.582269   129.064027   17.481671       1  \n",
      "2         2.021623    14.485915    50.897917   11.548148       5  \n",
      "3         1.532381  1603.257716  4678.014396  556.119062       1  \n",
      "4         2.273794    45.703761   128.972058   25.081731       1  \n",
      "...            ...          ...          ...         ...     ...  \n",
      "295240    1.450570    16.060891    34.151684  251.051557       3  \n",
      "295241    1.344541    22.500871     9.587961   -4.104739       1  \n",
      "295242    1.286849   138.906317   719.555877   77.149160       1  \n",
      "295243 -137.517388 -1855.088111   164.424864   21.952262       1  \n",
      "295244  -64.919975   176.572030   513.125851  401.862924       5  \n",
      "\n",
      "[295245 rows x 11 columns]\n",
      "<class 'pandas.core.frame.DataFrame'>\n",
      "RangeIndex: 295245 entries, 0 to 295244\n",
      "Data columns (total 11 columns):\n",
      " #   Column    Non-Null Count   Dtype  \n",
      "---  ------    --------------   -----  \n",
      " 0   height    295245 non-null  float64\n",
      " 1   lenght    295245 non-null  float64\n",
      " 2   area      295245 non-null  float64\n",
      " 3   eccen     295245 non-null  float64\n",
      " 4   p_black   295245 non-null  float64\n",
      " 5   p_and     295245 non-null  float64\n",
      " 6   mean_tr   295245 non-null  float64\n",
      " 7   blackpix  295245 non-null  float64\n",
      " 8   blackand  295245 non-null  float64\n",
      " 9   wb_trans  295245 non-null  float64\n",
      " 10  Result    295245 non-null  int64  \n",
      "dtypes: float64(10), int64(1)\n",
      "memory usage: 24.8 MB\n",
      "<class 'pandas.core.frame.DataFrame'>\n",
      "RangeIndex: 295245 entries, 0 to 295244\n",
      "Data columns (total 11 columns):\n",
      " #   Column    Non-Null Count   Dtype\n",
      "---  ------    --------------   -----\n",
      " 0   height    295245 non-null  int64\n",
      " 1   lenght    295245 non-null  int64\n",
      " 2   area      295245 non-null  int64\n",
      " 3   eccen     295245 non-null  int64\n",
      " 4   p_black   295245 non-null  int64\n",
      " 5   p_and     295245 non-null  int64\n",
      " 6   mean_tr   295245 non-null  int64\n",
      " 7   blackpix  295245 non-null  int64\n",
      " 8   blackand  295245 non-null  int64\n",
      " 9   wb_trans  295245 non-null  int64\n",
      " 10  Result    295245 non-null  int64\n",
      "dtypes: int64(11)\n",
      "memory usage: 24.8 MB\n",
      "Dataset Shapes X=(295245, 10), y=(295245,), Num of Classes=5\n",
      "206671\n",
      "Decision Tree Features:  [tensor([3]), tensor([7]), tensor([0])]\n",
      "Decision Tree Threasholds:  [tensor([[2.1620]]), tensor([[12.8588]]), tensor([[4.7199]])]\n"
     ]
    }
   ],
   "execution_count": 1
  },
  {
   "metadata": {
    "ExecuteTime": {
     "end_time": "2024-06-20T05:57:36.947443Z",
     "start_time": "2024-06-20T05:57:36.907355Z"
    }
   },
   "cell_type": "code",
   "source": [
    "tree_pred = decision_tree_forest.predict(torch.tensor(test_X.values, dtype=torch.float32))\n",
    "\n",
    "accuracy = accuracy_score(test_y.values, tree_pred.argmax(dim=-1).squeeze(0))\n",
    "print(\"MetaTree Test Accuracy: \", accuracy)\n"
   ],
   "id": "64e4f76726908522",
   "outputs": [
    {
     "name": "stdout",
     "output_type": "stream",
     "text": [
      "MetaTree Test Accuracy:  0.8989319664912954\n"
     ]
    }
   ],
   "execution_count": 2
  },
  {
   "metadata": {
    "ExecuteTime": {
     "end_time": "2024-06-20T05:57:37.009205Z",
     "start_time": "2024-06-20T05:57:36.951267Z"
    }
   },
   "cell_type": "code",
   "source": [
    "cart_ensemble = []\n",
    "\n",
    "for i in range(ensemble_size):\n",
    "    random.seed(seed + i + 1)\n",
    "    subset_idx = random.sample(train_idx, 256)\n",
    "    train_X, train_y = X.iloc[subset_idx], y.iloc[subset_idx]  # Use .iloc for row indexing\n",
    "    \n",
    "    clf = sklearn.tree.DecisionTreeClassifier(max_depth=2, random_state=seed + i + 1)\n",
    "    clf.fit(train_X.values, train_y.values)\n",
    "    cart_ensemble.append(clf)\n",
    "\n",
    "overall_pred = np.zeros((test_X.values.shape[0], len(set(test_y))))\n",
    "for clf in cart_ensemble:\n",
    "    overall_pred += clf.predict_proba(test_X.values)\n",
    "overall_pred = overall_pred / len(cart_ensemble)\n",
    "\n",
    "accuracy = accuracy_score(test_y.values, overall_pred.argmax(axis=-1))\n",
    "print(\"CART Test Accuracy: \", accuracy)\n"
   ],
   "id": "6b309dde3cc361a1",
   "outputs": [
    {
     "name": "stdout",
     "output_type": "stream",
     "text": [
      "CART Test Accuracy:  0.025346038340822365\n"
     ]
    }
   ],
   "execution_count": 3
  },
  {
   "metadata": {
    "ExecuteTime": {
     "end_time": "2024-06-20T05:57:37.017310Z",
     "start_time": "2024-06-20T05:57:37.011380Z"
    }
   },
   "cell_type": "code",
   "source": [
    "# # Tiếp tục từ đoạn code của bạn\n",
    "# # Định nghĩa các tham số cho mô hình GOSDT\n",
    "# gosdt_params = {\n",
    "#     'regularization': 0.01,\n",
    "#     'time_limit': 60,  # giới hạn thời gian tính toán là 60 giây\n",
    "#     'verbose': True\n",
    "# }\n",
    "# \n",
    "# # Khởi tạo mô hình GOSDT với các tham số đã định nghĩa\n",
    "# gosdt_model = GOSDT(gosdt_params)\n",
    "# \n",
    "# # Huấn luyện mô hình GOSDT với tập dữ liệu huấn luyện\n",
    "# gosdt_model.fit(train_X, train_y)\n",
    "# \n",
    "# # Dự đoán kết quả trên tập dữ liệu kiểm tra\n",
    "# predictions = gosdt_model.predict(test_X)\n",
    "# \n",
    "# # Tính toán độ chính xác của mô hình\n",
    "# accuracy = accuracy_score(test_y, predictions)\n",
    "# print(f'Độ chính xác của mô hình GOSDT: {accuracy}')\n"
   ],
   "id": "a1bdb794674d1d93",
   "outputs": [],
   "execution_count": 4
  },
  {
   "metadata": {
    "ExecuteTime": {
     "end_time": "2024-06-20T05:57:37.028436Z",
     "start_time": "2024-06-20T05:57:37.022008Z"
    }
   },
   "cell_type": "code",
   "source": [
    "# gosdt_ensemble = []\n",
    "# \n",
    "# for i in range(ensemble_size):\n",
    "#     random.seed(seed + i + 1)\n",
    "#     subset_idx = random.sample(train_idx, 256)\n",
    "#     train_X, train_y = X.iloc[subset_idx], y.iloc[subset_idx]  # Use .iloc for row indexing\n",
    "#     glf = OptimalTreeClassifier(random_state=seed + i + 1)\n",
    "#     print(glf.max_depth())\n",
    "#     gosdt_ensemble.append(predictions)\n",
    "# overall_pred_gosdt = np.zeros((test_X.values.shape[0], len(set(test_y))))\n",
    "# for glf in gosdt_ensemble:\n",
    "#     overall_pred_gosdt += glf.predict_proba(test_X.values)\n",
    "# overall_pred_gosdt = overall_pred_gosdt / len(gosdt_ensemble)\n",
    "# \n",
    "# accuracy = accuracy_score(test_y.values, overall_pred_gosdt.argmax(axis=-1))\n",
    "# print(\"GOSDT Test Accuracy: \", accuracy)\n",
    "#     "
   ],
   "id": "d056f1621dfb56bb",
   "outputs": [],
   "execution_count": 5
  },
  {
   "metadata": {
    "ExecuteTime": {
     "end_time": "2024-06-20T05:57:37.037105Z",
     "start_time": "2024-06-20T05:57:37.032113Z"
    }
   },
   "cell_type": "code",
   "source": "",
   "id": "213b7c82685c8e8f",
   "outputs": [],
   "execution_count": 5
  }
 ],
 "metadata": {
  "kernelspec": {
   "display_name": "Python 3",
   "language": "python",
   "name": "python3"
  },
  "language_info": {
   "codemirror_mode": {
    "name": "ipython",
    "version": 2
   },
   "file_extension": ".py",
   "mimetype": "text/x-python",
   "name": "python",
   "nbconvert_exporter": "python",
   "pygments_lexer": "ipython2",
   "version": "2.7.6"
  }
 },
 "nbformat": 4,
 "nbformat_minor": 5
}
