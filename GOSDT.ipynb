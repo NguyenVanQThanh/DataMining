{
 "cells": [
  {
   "cell_type": "code",
   "id": "initial_id",
   "metadata": {
    "collapsed": true,
    "ExecuteTime": {
     "end_time": "2024-05-28T12:45:46.392360Z",
     "start_time": "2024-05-28T12:45:45.378820Z"
    }
   },
   "source": [
    "import pandas as pd\n",
    "import numpy as np\n",
    "from sklearn.model_selection import train_test_split\n",
    "from sklearn.metrics import accuracy_score\n",
    "import random\n",
    "\n",
    "# Đặt seed để đảm bảo tính tái lập\n",
    "seed = 42\n",
    "\n",
    "# Đọc dữ liệu từ file CSV (giả sử bạn đã có file dữ liệu)\n",
    "df = pd.read_csv(\"./fico.csv\")\n",
    "\n",
    "# Chia dữ liệu thành các biến đầu vào (X) và đầu ra (y)\n",
    "X, y = df.iloc[:, :-1], df.iloc[:, -1]\n",
    "\n",
    "# Đảm bảo tất cả dữ liệu là số nguyên (nếu cần thiết)\n",
    "df = df.astype(int)\n",
    "\n",
    "# Chia dữ liệu thành tập train và test với tỷ lệ 70:30\n",
    "train_X, test_X, train_y, test_y = train_test_split(X, y, test_size=0.3, random_state=seed)\n",
    "\n",
    "# Lấy mẫu ngẫu nhiên 256 hàng từ tập train\n",
    "subset_idx = train_X.sample(n=256, random_state=seed).index\n",
    "subset_train_X = train_X.loc[subset_idx]\n",
    "subset_train_y = train_y.loc[subset_idx]\n",
    "print(\"Subset train shapes: X={}, y={}\".format(subset_train_X.shape, subset_train_y.shape))\n",
    "print(\"Test shapes: X={}, y={}\".format(test_X.shape, test_y.shape))\n",
    "\n",
    "# Huấn luyện mô hình GOSDT\n",
    "from gosdt import GOSDT\n",
    "\n",
    "# Cấu hình mô hình GOSDT\n",
    "config = {\n",
    "    \"regularization\": 0.1,\n",
    "    \"time_limit\": 100,\n",
    "    \"verbose\": True,\n",
    "    \"similar_support\": 0.5\n",
    "}\n",
    "\n",
    "model = GOSDT(config)\n",
    "\n",
    "# Chuẩn bị dữ liệu cho GOSDT\n",
    "subset_train_X = subset_train_X.to_numpy()\n",
    "subset_train_y = subset_train_y.to_numpy()\n",
    "\n",
    "# Huấn luyện mô hình\n",
    "model.fit(subset_train_X, subset_train_y)\n",
    "\n",
    "# Dự đoán trên tập test\n",
    "test_X_np = test_X.to_numpy()\n",
    "predictions = model.predict(test_X_np)\n",
    "\n",
    "# Đánh giá độ chính xác\n",
    "accuracy = accuracy_score(test_y, predictions)\n",
    "print(\"GOSDT Test Accuracy: \", accuracy)\n"
   ],
   "execution_count": 1,
   "outputs": []
  },
  {
   "metadata": {},
   "cell_type": "code",
   "execution_count": null,
   "source": "",
   "id": "93516c399dbff55",
   "outputs": []
  }
 ],
 "metadata": {
  "kernelspec": {
   "display_name": "Python 3",
   "language": "python",
   "name": "python3"
  },
  "language_info": {
   "codemirror_mode": {
    "name": "ipython",
    "version": 2
   },
   "file_extension": ".py",
   "mimetype": "text/x-python",
   "name": "python",
   "nbconvert_exporter": "python",
   "pygments_lexer": "ipython2",
   "version": "2.7.6"
  }
 },
 "nbformat": 4,
 "nbformat_minor": 5
}
