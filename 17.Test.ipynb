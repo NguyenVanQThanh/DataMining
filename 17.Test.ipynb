{
 "cells": [
  {
   "cell_type": "code",
   "id": "initial_id",
   "metadata": {
    "collapsed": true,
    "ExecuteTime": {
     "end_time": "2024-06-20T05:55:07.022875Z",
     "start_time": "2024-06-20T05:54:40.682449Z"
    }
   },
   "source": [
    "import pathlib\n",
    "\n",
    "import pandas as pd\n",
    "import numpy as np\n",
    "from scipy.io import arff\n",
    "from gosdt.model.threshold_guess import compute_thresholds, cut\n",
    "from sklearn.ensemble import GradientBoostingClassifier\n",
    "from sklearn.model_selection import train_test_split\n",
    "from sklearn.tree import DecisionTreeClassifier\n",
    "from sklearn.metrics import accuracy_score\n",
    "from imodels.tree.gosdt.pygosdt import OptimalTreeClassifier\n",
    "import random\n",
    "import torch\n",
    "import sklearn\n",
    "from gosdt import GOSDT\n",
    "from metatree.model_metatree import LlamaForMetaTree as MetaTree\n",
    "from metatree.decision_tree_class import DecisionTree, DecisionTreeForest\n",
    "from metatree.run_train import preprocess_dimension_patch\n",
    "\n",
    "from transformers import AutoConfig\n",
    "\n",
    "model_name_or_path = \"yzhuang/MetaTree\"\n",
    "\n",
    "config = AutoConfig.from_pretrained(model_name_or_path)\n",
    "model = MetaTree.from_pretrained(\n",
    "    model_name_or_path,\n",
    "    config=config,\n",
    ")   \n",
    "decision_tree_forest = DecisionTreeForest()\n",
    "\n",
    "ensemble_size = 1\n",
    "seed = 42\n",
    "# Load the new dataset\n",
    "arff_file = arff.loadarff('./dataset/17.wind.arff')\n",
    "df = pd.DataFrame(arff_file[0])\n",
    "print(df)\n",
    "df['Result'] = df['binaryClass'].apply(lambda x: 1 if x == b'P' else 0)\n",
    "\n",
    "# Drop the original binaryClass column\n",
    "df.drop(columns=['binaryClass'], inplace=True)\n",
    "X, y = df.iloc[:,:-1], df.iloc[:,-1]\n",
    "df.info()\n",
    "df = df.astype(int)\n",
    "df.info()\n",
    "feature_names = df.columns[:-1]\n",
    "\n",
    "print(\"Dataset Shapes X={}, y={}, Num of Classes={}\".format(X.shape, y.shape, len(set(y))))\n",
    "\n",
    "train_idx, test_idx = sklearn.model_selection.train_test_split(range(X.shape[0]), test_size=0.3, random_state=seed)\n",
    "print(len(train_idx))\n",
    "\n",
    "# Dimension \n",
    "random.seed(seed)\n",
    "feature_idx = np.random.choice(X.shape[1], 6, replace=False)\n",
    "X = X.iloc[:, feature_idx]  # Updated line\n",
    "\n",
    "test_X, test_y = X.iloc[test_idx], y.iloc[test_idx]  # Updated line\n",
    "\n",
    "for i in range(ensemble_size):\n",
    "    # Sample Train and Test Data\n",
    "    random.seed(seed+i+1)\n",
    "    subset_idx = random.sample(train_idx, 256)\n",
    "    train_X, train_y = X.iloc[subset_idx], y.iloc[subset_idx]  # Updated line\n",
    "\n",
    "    input_x = torch.tensor(train_X.values, dtype=torch.float32)  # Convert DataFrame to NumPy array before tensor\n",
    "    input_y = torch.nn.functional.one_hot(torch.tensor(train_y.values, dtype= torch.long)).float()  # Convert Series to NumPy array before tensor\n",
    "\n",
    "    batch = {\"input_x\": input_x, \"input_y\": input_y, \"input_y_clean\": input_y}\n",
    "    batch = preprocess_dimension_patch(batch, n_feature=10, n_class=10)\n",
    "    model.depth = 2\n",
    "    outputs = model.generate_decision_tree(batch['input_x'], batch['input_y'], depth=model.depth)\n",
    "    decision_tree_forest.add_tree(DecisionTree(auto_dims=outputs.metatree_dimensions, auto_thresholds=outputs.tentative_splits, input_x=batch['input_x'], input_y=batch['input_y'], depth=model.depth))\n",
    "\n",
    "    print(\"Decision Tree Features: \", [x.argmax(dim=-1) for x in outputs.metatree_dimensions])\n",
    "    print(\"Decision Tree Threasholds: \", outputs.tentative_splits)\n"
   ],
   "outputs": [
    {
     "name": "stdout",
     "output_type": "stream",
     "text": [
      "      year  month   day    RPT    VAL    ROS    KIL    SHA    BIR    DUB  \\\n",
      "0     61.0    1.0   1.0  15.04  14.96  13.17   9.29  13.96   9.87  13.67   \n",
      "1     61.0    1.0   2.0  14.71  16.88  10.83   6.50  12.62   7.67  11.50   \n",
      "2     61.0    1.0   3.0  18.50  16.88  12.33  10.13  11.17   6.17  11.25   \n",
      "3     61.0    1.0   4.0  10.58   6.63  11.75   4.58   4.54   2.88   8.63   \n",
      "4     61.0    1.0   5.0  13.33  13.25  11.42   6.17  10.71   8.21  11.92   \n",
      "...    ...    ...   ...    ...    ...    ...    ...    ...    ...    ...   \n",
      "6569  78.0   12.0  27.0  17.58  16.96  17.62   8.08  13.21  11.67  14.46   \n",
      "6570  78.0   12.0  28.0  13.21   5.46  13.46   5.00   8.12   9.42  14.33   \n",
      "6571  78.0   12.0  29.0  14.00  10.29  14.42   8.71   9.71  10.54  19.17   \n",
      "6572  78.0   12.0  30.0  18.50  14.04  21.29   9.13  12.75   9.71  18.08   \n",
      "6573  78.0   12.0  31.0  20.33  17.41  27.29   9.59  12.08  10.13  19.25   \n",
      "\n",
      "        CLA    MUL    CLO    BEL binaryClass  \n",
      "0     10.25  10.83  12.58  18.50        b'P'  \n",
      "1     10.04   9.79   9.67  17.54        b'P'  \n",
      "2      8.04   8.50   7.67  12.75        b'P'  \n",
      "3      1.79   5.83   5.88   5.46        b'P'  \n",
      "4      6.54  10.92  10.34  12.92        b'P'  \n",
      "...     ...    ...    ...    ...         ...  \n",
      "6569  15.59  14.04  14.00  17.21        b'N'  \n",
      "6570  16.25  15.25  18.05  21.79        b'N'  \n",
      "6571  12.46  14.50  16.42  18.88        b'N'  \n",
      "6572  12.87  12.46  12.12  14.67        b'N'  \n",
      "6573  11.63  11.58  11.38  12.08        b'N'  \n",
      "\n",
      "[6574 rows x 15 columns]\n",
      "<class 'pandas.core.frame.DataFrame'>\n",
      "RangeIndex: 6574 entries, 0 to 6573\n",
      "Data columns (total 15 columns):\n",
      " #   Column  Non-Null Count  Dtype  \n",
      "---  ------  --------------  -----  \n",
      " 0   year    6574 non-null   float64\n",
      " 1   month   6574 non-null   float64\n",
      " 2   day     6574 non-null   float64\n",
      " 3   RPT     6574 non-null   float64\n",
      " 4   VAL     6574 non-null   float64\n",
      " 5   ROS     6574 non-null   float64\n",
      " 6   KIL     6574 non-null   float64\n",
      " 7   SHA     6574 non-null   float64\n",
      " 8   BIR     6574 non-null   float64\n",
      " 9   DUB     6574 non-null   float64\n",
      " 10  CLA     6574 non-null   float64\n",
      " 11  MUL     6574 non-null   float64\n",
      " 12  CLO     6574 non-null   float64\n",
      " 13  BEL     6574 non-null   float64\n",
      " 14  Result  6574 non-null   int64  \n",
      "dtypes: float64(14), int64(1)\n",
      "memory usage: 770.5 KB\n",
      "<class 'pandas.core.frame.DataFrame'>\n",
      "RangeIndex: 6574 entries, 0 to 6573\n",
      "Data columns (total 15 columns):\n",
      " #   Column  Non-Null Count  Dtype\n",
      "---  ------  --------------  -----\n",
      " 0   year    6574 non-null   int64\n",
      " 1   month   6574 non-null   int64\n",
      " 2   day     6574 non-null   int64\n",
      " 3   RPT     6574 non-null   int64\n",
      " 4   VAL     6574 non-null   int64\n",
      " 5   ROS     6574 non-null   int64\n",
      " 6   KIL     6574 non-null   int64\n",
      " 7   SHA     6574 non-null   int64\n",
      " 8   BIR     6574 non-null   int64\n",
      " 9   DUB     6574 non-null   int64\n",
      " 10  CLA     6574 non-null   int64\n",
      " 11  MUL     6574 non-null   int64\n",
      " 12  CLO     6574 non-null   int64\n",
      " 13  BEL     6574 non-null   int64\n",
      " 14  Result  6574 non-null   int64\n",
      "dtypes: int64(15)\n",
      "memory usage: 770.5 KB\n",
      "Dataset Shapes X=(6574, 14), y=(6574,), Num of Classes=2\n",
      "4601\n",
      "Decision Tree Features:  [tensor([1]), tensor([1]), tensor([4])]\n",
      "Decision Tree Threasholds:  [tensor([[8.1000]]), tensor([[4.8950]]), tensor([[5.1100]])]\n"
     ]
    }
   ],
   "execution_count": 17
  },
  {
   "metadata": {
    "ExecuteTime": {
     "end_time": "2024-06-20T05:55:07.035648Z",
     "start_time": "2024-06-20T05:55:07.025220Z"
    }
   },
   "cell_type": "code",
   "source": [
    "tree_pred = decision_tree_forest.predict(torch.tensor(test_X.values, dtype=torch.float32))\n",
    "\n",
    "accuracy = accuracy_score(test_y.values, tree_pred.argmax(dim=-1).squeeze(0))\n",
    "print(\"MetaTree Test Accuracy: \", accuracy)\n"
   ],
   "id": "64e4f76726908522",
   "outputs": [
    {
     "name": "stdout",
     "output_type": "stream",
     "text": [
      "MetaTree Test Accuracy:  0.7557019766852509\n"
     ]
    }
   ],
   "execution_count": 18
  },
  {
   "metadata": {
    "ExecuteTime": {
     "end_time": "2024-06-20T05:55:07.055227Z",
     "start_time": "2024-06-20T05:55:07.038082Z"
    }
   },
   "cell_type": "code",
   "source": [
    "cart_ensemble = []\n",
    "\n",
    "for i in range(ensemble_size):\n",
    "    random.seed(seed + i + 1)\n",
    "    subset_idx = random.sample(train_idx, 256)\n",
    "    train_X, train_y = X.iloc[subset_idx], y.iloc[subset_idx]  # Use .iloc for row indexing\n",
    "    \n",
    "    clf = sklearn.tree.DecisionTreeClassifier(max_depth=2, random_state=seed + i + 1)\n",
    "    clf.fit(train_X.values, train_y.values)\n",
    "    cart_ensemble.append(clf)\n",
    "\n",
    "overall_pred = np.zeros((test_X.values.shape[0], len(set(test_y))))\n",
    "for clf in cart_ensemble:\n",
    "    overall_pred += clf.predict_proba(test_X.values)\n",
    "overall_pred = overall_pred / len(cart_ensemble)\n",
    "\n",
    "accuracy = accuracy_score(test_y.values, overall_pred.argmax(axis=-1))\n",
    "print(\"CART Test Accuracy: \", accuracy)\n"
   ],
   "id": "6b309dde3cc361a1",
   "outputs": [
    {
     "name": "stdout",
     "output_type": "stream",
     "text": [
      "CART Test Accuracy:  0.7136340598073999\n"
     ]
    }
   ],
   "execution_count": 19
  },
  {
   "metadata": {
    "ExecuteTime": {
     "end_time": "2024-06-20T05:55:07.064066Z",
     "start_time": "2024-06-20T05:55:07.058590Z"
    }
   },
   "cell_type": "code",
   "source": [
    "# # Tiếp tục từ đoạn code của bạn\n",
    "# # Định nghĩa các tham số cho mô hình GOSDT\n",
    "# gosdt_params = {\n",
    "#     'regularization': 0.01,\n",
    "#     'time_limit': 60,  # giới hạn thời gian tính toán là 60 giây\n",
    "#     'verbose': True\n",
    "# }\n",
    "# \n",
    "# # Khởi tạo mô hình GOSDT với các tham số đã định nghĩa\n",
    "# gosdt_model = GOSDT(gosdt_params)\n",
    "# \n",
    "# # Huấn luyện mô hình GOSDT với tập dữ liệu huấn luyện\n",
    "# gosdt_model.fit(train_X, train_y)\n",
    "# \n",
    "# # Dự đoán kết quả trên tập dữ liệu kiểm tra\n",
    "# predictions = gosdt_model.predict(test_X)\n",
    "# \n",
    "# # Tính toán độ chính xác của mô hình\n",
    "# accuracy = accuracy_score(test_y, predictions)\n",
    "# print(f'Độ chính xác của mô hình GOSDT: {accuracy}')\n"
   ],
   "id": "a1bdb794674d1d93",
   "outputs": [],
   "execution_count": 20
  },
  {
   "metadata": {
    "ExecuteTime": {
     "end_time": "2024-06-20T05:55:07.070805Z",
     "start_time": "2024-06-20T05:55:07.066423Z"
    }
   },
   "cell_type": "code",
   "source": [
    "# gosdt_ensemble = []\n",
    "# \n",
    "# for i in range(ensemble_size):\n",
    "#     random.seed(seed + i + 1)\n",
    "#     subset_idx = random.sample(train_idx, 256)\n",
    "#     train_X, train_y = X.iloc[subset_idx], y.iloc[subset_idx]  # Use .iloc for row indexing\n",
    "#     glf = OptimalTreeClassifier(random_state=seed + i + 1)\n",
    "#     print(glf.max_depth())\n",
    "#     gosdt_ensemble.append(predictions)\n",
    "# overall_pred_gosdt = np.zeros((test_X.values.shape[0], len(set(test_y))))\n",
    "# for glf in gosdt_ensemble:\n",
    "#     overall_pred_gosdt += glf.predict_proba(test_X.values)\n",
    "# overall_pred_gosdt = overall_pred_gosdt / len(gosdt_ensemble)\n",
    "# \n",
    "# accuracy = accuracy_score(test_y.values, overall_pred_gosdt.argmax(axis=-1))\n",
    "# print(\"GOSDT Test Accuracy: \", accuracy)\n",
    "#     "
   ],
   "id": "d056f1621dfb56bb",
   "outputs": [],
   "execution_count": 21
  },
  {
   "metadata": {
    "ExecuteTime": {
     "end_time": "2024-06-20T05:55:07.075982Z",
     "start_time": "2024-06-20T05:55:07.073071Z"
    }
   },
   "cell_type": "code",
   "source": "",
   "id": "213b7c82685c8e8f",
   "outputs": [],
   "execution_count": 21
  }
 ],
 "metadata": {
  "kernelspec": {
   "display_name": "Python 3",
   "language": "python",
   "name": "python3"
  },
  "language_info": {
   "codemirror_mode": {
    "name": "ipython",
    "version": 2
   },
   "file_extension": ".py",
   "mimetype": "text/x-python",
   "name": "python",
   "nbconvert_exporter": "python",
   "pygments_lexer": "ipython2",
   "version": "2.7.6"
  }
 },
 "nbformat": 4,
 "nbformat_minor": 5
}
