{
 "cells": [
  {
   "cell_type": "code",
   "id": "initial_id",
   "metadata": {
    "collapsed": true,
    "ExecuteTime": {
     "end_time": "2024-06-20T05:48:16.694602Z",
     "start_time": "2024-06-20T05:47:52.670979Z"
    }
   },
   "source": [
    "import pathlib\n",
    "\n",
    "import pandas as pd\n",
    "import numpy as np\n",
    "from scipy.io import arff\n",
    "from gosdt.model.threshold_guess import compute_thresholds, cut\n",
    "from sklearn.ensemble import GradientBoostingClassifier\n",
    "from sklearn.model_selection import train_test_split\n",
    "from sklearn.tree import DecisionTreeClassifier\n",
    "from sklearn.metrics import accuracy_score\n",
    "from imodels.tree.gosdt.pygosdt import OptimalTreeClassifier\n",
    "import random\n",
    "import torch\n",
    "import sklearn\n",
    "from gosdt import GOSDT\n",
    "from metatree.model_metatree import LlamaForMetaTree as MetaTree\n",
    "from metatree.decision_tree_class import DecisionTree, DecisionTreeForest\n",
    "from metatree.run_train import preprocess_dimension_patch\n",
    "\n",
    "from transformers import AutoConfig\n",
    "\n",
    "model_name_or_path = \"yzhuang/MetaTree\"\n",
    "\n",
    "config = AutoConfig.from_pretrained(model_name_or_path)\n",
    "model = MetaTree.from_pretrained(\n",
    "    model_name_or_path,\n",
    "    config=config,\n",
    ")   \n",
    "decision_tree_forest = DecisionTreeForest()\n",
    "\n",
    "ensemble_size = 1\n",
    "seed = 42\n",
    "# Load the new dataset\n",
    "arff_file = arff.loadarff('./dataset/16.fried.arff')\n",
    "df = pd.DataFrame(arff_file[0])\n",
    "print(df)\n",
    "df['Result'] = df['binaryClass'].apply(lambda x: 1 if x == b'P' else 0)\n",
    "\n",
    "# Drop the original binaryClass column\n",
    "df.drop(columns=['binaryClass'], inplace=True)\n",
    "X, y = df.iloc[:,:-1], df.iloc[:,-1]\n",
    "df = df.astype(int)\n",
    "df.info()\n",
    "feature_names = df.columns[:-1]\n",
    "\n",
    "print(\"Dataset Shapes X={}, y={}, Num of Classes={}\".format(X.shape, y.shape, len(set(y))))\n",
    "\n",
    "train_idx, test_idx = sklearn.model_selection.train_test_split(range(X.shape[0]), test_size=0.3, random_state=seed)\n",
    "print(len(train_idx))\n",
    "\n",
    "# Dimension \n",
    "random.seed(seed)\n",
    "feature_idx = np.random.choice(X.shape[1], 6, replace=False)\n",
    "X = X.iloc[:, feature_idx]  # Updated line\n",
    "\n",
    "test_X, test_y = X.iloc[test_idx], y.iloc[test_idx]  # Updated line\n",
    "\n",
    "for i in range(ensemble_size):\n",
    "    # Sample Train and Test Data\n",
    "    random.seed(seed+i+1)\n",
    "    subset_idx = random.sample(train_idx, 256)\n",
    "    train_X, train_y = X.iloc[subset_idx], y.iloc[subset_idx]  # Updated line\n",
    "\n",
    "    input_x = torch.tensor(train_X.values, dtype=torch.float32)  # Convert DataFrame to NumPy array before tensor\n",
    "    input_y = torch.nn.functional.one_hot(torch.tensor(train_y.values, dtype= torch.long)).float()  # Convert Series to NumPy array before tensor\n",
    "\n",
    "    batch = {\"input_x\": input_x, \"input_y\": input_y, \"input_y_clean\": input_y}\n",
    "    batch = preprocess_dimension_patch(batch, n_feature=10, n_class=10)\n",
    "    model.depth = 2\n",
    "    outputs = model.generate_decision_tree(batch['input_x'], batch['input_y'], depth=model.depth)\n",
    "    decision_tree_forest.add_tree(DecisionTree(auto_dims=outputs.metatree_dimensions, auto_thresholds=outputs.tentative_splits, input_x=batch['input_x'], input_y=batch['input_y'], depth=model.depth))\n",
    "\n",
    "    print(\"Decision Tree Features: \", [x.argmax(dim=-1) for x in outputs.metatree_dimensions])\n",
    "    print(\"Decision Tree Threasholds: \", outputs.tentative_splits)\n"
   ],
   "outputs": [
    {
     "name": "stdout",
     "output_type": "stream",
     "text": [
      "          X1     X2     X3     X4     X5     X6     X7     X8     X9    X10  \\\n",
      "0      0.487  0.072  0.004  0.833  0.765  0.600  0.132  0.886  0.073  0.342   \n",
      "1      0.223  0.401  0.659  0.528  0.843  0.713  0.580  0.473  0.572  0.528   \n",
      "2      0.903  0.913  0.940  0.979  0.561  0.744  0.627  0.818  0.309  0.510   \n",
      "3      0.791  0.857  0.359  0.844  0.155  0.948  0.114  0.292  0.412  0.991   \n",
      "4      0.326  0.593  0.085  0.927  0.926  0.633  0.431  0.326  0.031  0.730   \n",
      "...      ...    ...    ...    ...    ...    ...    ...    ...    ...    ...   \n",
      "40763  0.911  0.960  0.205  0.224  0.703  0.531  0.061  1.000  0.337  0.444   \n",
      "40764  0.673  0.533  0.086  0.097  0.123  0.405  0.674  0.752  0.772  0.624   \n",
      "40765  0.052  0.644  0.645  0.838  0.466  0.360  0.177  0.849  0.153  0.683   \n",
      "40766  0.835  0.074  0.780  0.916  0.621  0.410  0.342  0.466  0.896  0.447   \n",
      "40767  0.537  0.490  0.169  0.638  0.726  0.605  0.907  0.394  0.495  0.991   \n",
      "\n",
      "      binaryClass  \n",
      "0            b'N'  \n",
      "1            b'P'  \n",
      "2            b'N'  \n",
      "3            b'N'  \n",
      "4            b'N'  \n",
      "...           ...  \n",
      "40763        b'P'  \n",
      "40764        b'N'  \n",
      "40765        b'P'  \n",
      "40766        b'N'  \n",
      "40767        b'N'  \n",
      "\n",
      "[40768 rows x 11 columns]\n",
      "<class 'pandas.core.frame.DataFrame'>\n",
      "RangeIndex: 40768 entries, 0 to 40767\n",
      "Data columns (total 11 columns):\n",
      " #   Column  Non-Null Count  Dtype\n",
      "---  ------  --------------  -----\n",
      " 0   X1      40768 non-null  int64\n",
      " 1   X2      40768 non-null  int64\n",
      " 2   X3      40768 non-null  int64\n",
      " 3   X4      40768 non-null  int64\n",
      " 4   X5      40768 non-null  int64\n",
      " 5   X6      40768 non-null  int64\n",
      " 6   X7      40768 non-null  int64\n",
      " 7   X8      40768 non-null  int64\n",
      " 8   X9      40768 non-null  int64\n",
      " 9   X10     40768 non-null  int64\n",
      " 10  Result  40768 non-null  int64\n",
      "dtypes: int64(11)\n",
      "memory usage: 3.4 MB\n",
      "Dataset Shapes X=(40768, 10), y=(40768,), Num of Classes=2\n",
      "28537\n",
      "Decision Tree Features:  [tensor([5]), tensor([4]), tensor([4])]\n",
      "Decision Tree Threasholds:  [tensor([[0.3880]]), tensor([[0.7440]]), tensor([[0.4215]])]\n"
     ]
    }
   ],
   "execution_count": 3
  },
  {
   "metadata": {
    "ExecuteTime": {
     "end_time": "2024-06-20T05:48:16.713764Z",
     "start_time": "2024-06-20T05:48:16.698309Z"
    }
   },
   "cell_type": "code",
   "source": [
    "tree_pred = decision_tree_forest.predict(torch.tensor(test_X.values, dtype=torch.float32))\n",
    "\n",
    "accuracy = accuracy_score(test_y.values, tree_pred.argmax(dim=-1).squeeze(0))\n",
    "print(\"MetaTree Test Accuracy: \", accuracy)\n"
   ],
   "id": "64e4f76726908522",
   "outputs": [
    {
     "name": "stdout",
     "output_type": "stream",
     "text": [
      "MetaTree Test Accuracy:  0.7427029678685307\n"
     ]
    }
   ],
   "execution_count": 4
  },
  {
   "metadata": {
    "ExecuteTime": {
     "end_time": "2024-06-20T05:48:16.747865Z",
     "start_time": "2024-06-20T05:48:16.716758Z"
    }
   },
   "cell_type": "code",
   "source": [
    "cart_ensemble = []\n",
    "\n",
    "for i in range(ensemble_size):\n",
    "    random.seed(seed + i + 1)\n",
    "    subset_idx = random.sample(train_idx, 256)\n",
    "    train_X, train_y = X.iloc[subset_idx], y.iloc[subset_idx]  # Use .iloc for row indexing\n",
    "    \n",
    "    clf = sklearn.tree.DecisionTreeClassifier(max_depth=2, random_state=seed + i + 1)\n",
    "    clf.fit(train_X.values, train_y.values)\n",
    "    cart_ensemble.append(clf)\n",
    "\n",
    "overall_pred = np.zeros((test_X.values.shape[0], len(set(test_y))))\n",
    "for clf in cart_ensemble:\n",
    "    overall_pred += clf.predict_proba(test_X.values)\n",
    "overall_pred = overall_pred / len(cart_ensemble)\n",
    "\n",
    "accuracy = accuracy_score(test_y.values, overall_pred.argmax(axis=-1))\n",
    "print(\"CART Test Accuracy: \", accuracy)\n"
   ],
   "id": "6b309dde3cc361a1",
   "outputs": [
    {
     "name": "stdout",
     "output_type": "stream",
     "text": [
      "CART Test Accuracy:  0.7424576894775571\n"
     ]
    }
   ],
   "execution_count": 5
  },
  {
   "metadata": {
    "ExecuteTime": {
     "end_time": "2024-06-20T05:48:16.759402Z",
     "start_time": "2024-06-20T05:48:16.752675Z"
    }
   },
   "cell_type": "code",
   "source": [
    "# # Tiếp tục từ đoạn code của bạn\n",
    "# # Định nghĩa các tham số cho mô hình GOSDT\n",
    "# gosdt_params = {\n",
    "#     'regularization': 0.01,\n",
    "#     'time_limit': 60,  # giới hạn thời gian tính toán là 60 giây\n",
    "#     'verbose': True\n",
    "# }\n",
    "# \n",
    "# # Khởi tạo mô hình GOSDT với các tham số đã định nghĩa\n",
    "# gosdt_model = GOSDT(gosdt_params)\n",
    "# \n",
    "# # Huấn luyện mô hình GOSDT với tập dữ liệu huấn luyện\n",
    "# gosdt_model.fit(train_X, train_y)\n",
    "# \n",
    "# # Dự đoán kết quả trên tập dữ liệu kiểm tra\n",
    "# predictions = gosdt_model.predict(test_X)\n",
    "# \n",
    "# # Tính toán độ chính xác của mô hình\n",
    "# accuracy = accuracy_score(test_y, predictions)\n",
    "# print(f'Độ chính xác của mô hình GOSDT: {accuracy}')\n"
   ],
   "id": "a1bdb794674d1d93",
   "outputs": [],
   "execution_count": 6
  },
  {
   "metadata": {
    "ExecuteTime": {
     "end_time": "2024-06-20T05:48:16.768781Z",
     "start_time": "2024-06-20T05:48:16.761960Z"
    }
   },
   "cell_type": "code",
   "source": [
    "# gosdt_ensemble = []\n",
    "# \n",
    "# for i in range(ensemble_size):\n",
    "#     random.seed(seed + i + 1)\n",
    "#     subset_idx = random.sample(train_idx, 256)\n",
    "#     train_X, train_y = X.iloc[subset_idx], y.iloc[subset_idx]  # Use .iloc for row indexing\n",
    "#     glf = OptimalTreeClassifier(random_state=seed + i + 1)\n",
    "#     print(glf.max_depth())\n",
    "#     gosdt_ensemble.append(predictions)\n",
    "# overall_pred_gosdt = np.zeros((test_X.values.shape[0], len(set(test_y))))\n",
    "# for glf in gosdt_ensemble:\n",
    "#     overall_pred_gosdt += glf.predict_proba(test_X.values)\n",
    "# overall_pred_gosdt = overall_pred_gosdt / len(gosdt_ensemble)\n",
    "# \n",
    "# accuracy = accuracy_score(test_y.values, overall_pred_gosdt.argmax(axis=-1))\n",
    "# print(\"GOSDT Test Accuracy: \", accuracy)\n",
    "#     "
   ],
   "id": "d056f1621dfb56bb",
   "outputs": [],
   "execution_count": 7
  },
  {
   "metadata": {
    "ExecuteTime": {
     "end_time": "2024-06-20T05:48:16.774611Z",
     "start_time": "2024-06-20T05:48:16.771299Z"
    }
   },
   "cell_type": "code",
   "source": "",
   "id": "213b7c82685c8e8f",
   "outputs": [],
   "execution_count": 7
  }
 ],
 "metadata": {
  "kernelspec": {
   "display_name": "Python 3",
   "language": "python",
   "name": "python3"
  },
  "language_info": {
   "codemirror_mode": {
    "name": "ipython",
    "version": 2
   },
   "file_extension": ".py",
   "mimetype": "text/x-python",
   "name": "python",
   "nbconvert_exporter": "python",
   "pygments_lexer": "ipython2",
   "version": "2.7.6"
  }
 },
 "nbformat": 4,
 "nbformat_minor": 5
}
